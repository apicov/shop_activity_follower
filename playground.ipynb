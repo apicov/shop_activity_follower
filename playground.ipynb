{
 "cells": [
  {
   "cell_type": "code",
   "execution_count": 1,
   "metadata": {},
   "outputs": [],
   "source": [
    "from pathlib import Path\n",
    "import pandas as pd\n",
    "import etsy_scraper as ets\n",
    "import re"
   ]
  },
  {
   "cell_type": "code",
   "execution_count": 5,
   "metadata": {},
   "outputs": [],
   "source": [
    "shops_path = Path('/home/pico/code/shop_activity_follower/daily_downloads')"
   ]
  },
  {
   "cell_type": "code",
   "execution_count": 8,
   "metadata": {},
   "outputs": [],
   "source": [
    "soup = ets.open_html('/home/pico/code/shop_activity_follower/daily_downloads/ArtPrintsFactory/ArtPrintsFactory_2023-02-09_06-00-17_UTC')"
   ]
  },
  {
   "cell_type": "code",
   "execution_count": 29,
   "metadata": {},
   "outputs": [],
   "source": [
    "def extract_nitems(soup):\n",
    "    try:\n",
    "        #extract from html number of items in store\n",
    "        text_nitems = soup.find('div', class_='wt-tab-container wt-mb-xs-6').find('button', attrs={'data-section-id':'0'}).text\n",
    "        #if text all is in extracted string, number of items is in it\n",
    "        if 'All' in text_nitems:\n",
    "            #get the number of items\n",
    "            nitems = int(re.search('[0-9]+',text_nitems).group())\n",
    "        return nitems\n",
    "\n",
    "    except:\n",
    "        print('problem extracting nitems')\n",
    "        return -1\n",
    "\n",
    "\n",
    "def extract_sales(soup):\n",
    "    try:\n",
    "        #extract total sales of shop\n",
    "        sales_txt = soup.find('div', class_='wt-mt-lg-5 wt-pt-lg-2 wt-bt-xs-1').div.text\n",
    "        if 'Sales' in sales_txt:\n",
    "            sales = int(re.search('[0-9]+', sales_txt).group())\n",
    "        return sales\n",
    "    except:\n",
    "        print('problem extracting sales')\n",
    "        return -1\n",
    "\n",
    "def extract_number_of_admirers(soup):\n",
    "    try:\n",
    "        #extract total admirers of shop\n",
    "        admirers_txt = soup.find('div', class_='wt-mt-lg-5 wt-pt-lg-2 wt-bt-xs-1').find('a', class_='').text\n",
    "        if 'Admirers' in admirers_txt:\n",
    "            admirers = int(re.search('[0-9]+', admirers_txt).group())\n",
    "        return admirers\n",
    "    except:\n",
    "        print('problem extracting n admirers')\n",
    "        return -1\n",
    "\n",
    "\n",
    "def extract_number_of_reviews(soup):\n",
    "    try:\n",
    "        #extract total admirers of shop\n",
    "        nreviews_txt = soup.find('div', class_='wt-display-inline-block wt-vertical-align-middle').text\n",
    "        nreviews = int(re.search('[0-9]+', nreviews_txt).group())\n",
    "        return nreviews\n",
    "    except:\n",
    "        print('problem extracting n reviews')\n",
    "        return -1\n",
    "\n",
    "\n",
    "def extract_shop_features_from_html(soup):\n",
    "    shop_features = {}\n",
    "    shop_features['Nitems'] = extract_nitems(soup)\n",
    "    shop_features['Nsales'] = extract_sales(soup) \n",
    "    shop_features['Nadmirers'] = extract_number_of_admirers(soup)\n",
    "    shop_features['Nreviews'] = extract_number_of_reviews(soup)\n",
    "    return shop_features\n"
   ]
  },
  {
   "cell_type": "code",
   "execution_count": 39,
   "metadata": {},
   "outputs": [],
   "source": [
    "def extract_shops_features_from_folder(path):\n",
    "   shops_paths = sorted( list(path.glob('*/')) )\n",
    "   for shop in shops_paths:\n",
    "      print(shop)\n",
    "      htmls = sorted (list(shop.glob('*')) )\n",
    "      print(htmls)\n",
    "      return"
   ]
  },
  {
   "cell_type": "code",
   "execution_count": 40,
   "metadata": {},
   "outputs": [
    {
     "name": "stdout",
     "output_type": "stream",
     "text": [
      "/home/pico/code/shop_activity_follower/daily_downloads/ArtPrintsFactory\n",
      "[PosixPath('/home/pico/code/shop_activity_follower/daily_downloads/ArtPrintsFactory/ArtPrintsFactory_2023-02-09_06-00-17_UTC'), PosixPath('/home/pico/code/shop_activity_follower/daily_downloads/ArtPrintsFactory/ArtPrintsFactory_2023-02-10_06-00-17_UTC'), PosixPath('/home/pico/code/shop_activity_follower/daily_downloads/ArtPrintsFactory/ArtPrintsFactory_2023-02-11_06-00-17_UTC'), PosixPath('/home/pico/code/shop_activity_follower/daily_downloads/ArtPrintsFactory/ArtPrintsFactory_2023-02-12_06-00-17_UTC'), PosixPath('/home/pico/code/shop_activity_follower/daily_downloads/ArtPrintsFactory/ArtPrintsFactory_2023-02-13_06-00-14_UTC'), PosixPath('/home/pico/code/shop_activity_follower/daily_downloads/ArtPrintsFactory/ArtPrintsFactory_2023-02-14_06-00-11_UTC'), PosixPath('/home/pico/code/shop_activity_follower/daily_downloads/ArtPrintsFactory/ArtPrintsFactory_2023-02-15_06-00-12_UTC'), PosixPath('/home/pico/code/shop_activity_follower/daily_downloads/ArtPrintsFactory/ArtPrintsFactory_2023-02-16_06-00-15_UTC'), PosixPath('/home/pico/code/shop_activity_follower/daily_downloads/ArtPrintsFactory/ArtPrintsFactory_2023-02-17_06-00-12_UTC'), PosixPath('/home/pico/code/shop_activity_follower/daily_downloads/ArtPrintsFactory/ArtPrintsFactory_2023-02-18_06-00-12_UTC'), PosixPath('/home/pico/code/shop_activity_follower/daily_downloads/ArtPrintsFactory/ArtPrintsFactory_2023-02-19_06-00-13_UTC'), PosixPath('/home/pico/code/shop_activity_follower/daily_downloads/ArtPrintsFactory/ArtPrintsFactory_2023-02-20_06-00-09_UTC'), PosixPath('/home/pico/code/shop_activity_follower/daily_downloads/ArtPrintsFactory/ArtPrintsFactory_2023-02-21_06-00-15_UTC'), PosixPath('/home/pico/code/shop_activity_follower/daily_downloads/ArtPrintsFactory/ArtPrintsFactory_2023-02-22_06-00-13_UTC'), PosixPath('/home/pico/code/shop_activity_follower/daily_downloads/ArtPrintsFactory/ArtPrintsFactory_2023-02-23_06-00-13_UTC'), PosixPath('/home/pico/code/shop_activity_follower/daily_downloads/ArtPrintsFactory/ArtPrintsFactory_2023-02-24_06-00-09_UTC'), PosixPath('/home/pico/code/shop_activity_follower/daily_downloads/ArtPrintsFactory/ArtPrintsFactory_2023-02-25_06-00-10_UTC'), PosixPath('/home/pico/code/shop_activity_follower/daily_downloads/ArtPrintsFactory/ArtPrintsFactory_2023-02-26_06-00-09_UTC'), PosixPath('/home/pico/code/shop_activity_follower/daily_downloads/ArtPrintsFactory/ArtPrintsFactory_2023-02-27_06-00-11_UTC'), PosixPath('/home/pico/code/shop_activity_follower/daily_downloads/ArtPrintsFactory/ArtPrintsFactory_2023-02-28_06-00-13_UTC'), PosixPath('/home/pico/code/shop_activity_follower/daily_downloads/ArtPrintsFactory/ArtPrintsFactory_2023-03-01_06-00-10_UTC'), PosixPath('/home/pico/code/shop_activity_follower/daily_downloads/ArtPrintsFactory/ArtPrintsFactory_2023-03-02_06-00-13_UTC')]\n"
     ]
    }
   ],
   "source": [
    "extract_shops_features_from_folder(shops_path)"
   ]
  },
  {
   "cell_type": "code",
   "execution_count": 30,
   "metadata": {},
   "outputs": [
    {
     "data": {
      "text/plain": [
       "{'Nitems': 2195, 'Nsales': 155658, 'Nadmirers': 22370, 'Nreviews': 12211}"
      ]
     },
     "execution_count": 30,
     "metadata": {},
     "output_type": "execute_result"
    }
   ],
   "source": [
    "extract_shop_features_from_html(soup)"
   ]
  },
  {
   "cell_type": "code",
   "execution_count": 11,
   "metadata": {},
   "outputs": [
    {
     "data": {
      "text/plain": [
       "2195"
      ]
     },
     "execution_count": 11,
     "metadata": {},
     "output_type": "execute_result"
    }
   ],
   "source": []
  },
  {
   "cell_type": "code",
   "execution_count": 25,
   "metadata": {},
   "outputs": [
    {
     "data": {
      "text/plain": [
       "'\\n               (12211)\\n              '"
      ]
     },
     "execution_count": 25,
     "metadata": {},
     "output_type": "execute_result"
    }
   ],
   "source": [
    "ksoup.find('div', class_='wt-display-inline-block wt-vertical-align-middle').text"
   ]
  },
  {
   "cell_type": "code",
   "execution_count": 20,
   "metadata": {},
   "outputs": [
    {
     "data": {
      "text/plain": [
       "22370"
      ]
     },
     "execution_count": 20,
     "metadata": {},
     "output_type": "execute_result"
    }
   ],
   "source": [
    "kkextract_number_of_admirers(soup)"
   ]
  },
  {
   "cell_type": "code",
   "execution_count": 28,
   "metadata": {},
   "outputs": [
    {
     "data": {
      "text/plain": [
       "12211"
      ]
     },
     "execution_count": 28,
     "metadata": {},
     "output_type": "execute_result"
    }
   ],
   "source": [
    "extract_number_of_reviews(soup)"
   ]
  },
  {
   "cell_type": "code",
   "execution_count": null,
   "metadata": {},
   "outputs": [],
   "source": []
  }
 ],
 "metadata": {
  "kernelspec": {
   "display_name": "shop_activity_follower_streamlit-0wO4MKf-",
   "language": "python",
   "name": "python3"
  },
  "language_info": {
   "codemirror_mode": {
    "name": "ipython",
    "version": 3
   },
   "file_extension": ".py",
   "mimetype": "text/x-python",
   "name": "python",
   "nbconvert_exporter": "python",
   "pygments_lexer": "ipython3",
   "version": "3.10.6"
  },
  "orig_nbformat": 4,
  "vscode": {
   "interpreter": {
    "hash": "4ca77c2fa1fb429c2d4a7cfd7c80ea2a9f7fe5d04e74aa532c8449b3388a1a58"
   }
  }
 },
 "nbformat": 4,
 "nbformat_minor": 2
}
