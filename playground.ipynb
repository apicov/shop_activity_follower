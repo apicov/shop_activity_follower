{
 "cells": [
  {
   "cell_type": "code",
   "execution_count": 1,
   "metadata": {},
   "outputs": [],
   "source": [
    "from pathlib import Path\n",
    "import pandas as pd\n",
    "import etsy_scraper as ets\n",
    "import re"
   ]
  },
  {
   "cell_type": "code",
   "execution_count": 5,
   "metadata": {},
   "outputs": [],
   "source": [
    "shops_path = Path('/home/pico/code/shop_activity_follower/daily_downloads')"
   ]
  },
  {
   "cell_type": "code",
   "execution_count": 6,
   "metadata": {},
   "outputs": [
    {
     "data": {
      "text/plain": [
       "[PosixPath('/home/pico/code/shop_activity_follower/daily_downloads/CrossStitchByNarnie'),\n",
       " PosixPath('/home/pico/code/shop_activity_follower/daily_downloads/LaSelvaDesign'),\n",
       " PosixPath('/home/pico/code/shop_activity_follower/daily_downloads/CounsellorCronan'),\n",
       " PosixPath('/home/pico/code/shop_activity_follower/daily_downloads/VladaXstitch'),\n",
       " PosixPath('/home/pico/code/shop_activity_follower/daily_downloads/SatsumaStreet'),\n",
       " PosixPath('/home/pico/code/shop_activity_follower/daily_downloads/DotpebblesKnits'),\n",
       " PosixPath('/home/pico/code/shop_activity_follower/daily_downloads/TigercubPrints'),\n",
       " PosixPath('/home/pico/code/shop_activity_follower/daily_downloads/CrossStitchObsession'),\n",
       " PosixPath('/home/pico/code/shop_activity_follower/daily_downloads/TheStitchPatterns'),\n",
       " PosixPath('/home/pico/code/shop_activity_follower/daily_downloads/TeenyWeenyXStitch'),\n",
       " PosixPath('/home/pico/code/shop_activity_follower/daily_downloads/Gingermelon'),\n",
       " PosixPath('/home/pico/code/shop_activity_follower/daily_downloads/Stitchrovia'),\n",
       " PosixPath('/home/pico/code/shop_activity_follower/daily_downloads/CrossStitchByCoconut'),\n",
       " PosixPath('/home/pico/code/shop_activity_follower/daily_downloads/LittleFolkPrintables'),\n",
       " PosixPath('/home/pico/code/shop_activity_follower/daily_downloads/Herzensprojekt'),\n",
       " PosixPath('/home/pico/code/shop_activity_follower/daily_downloads/NikkiPattern'),\n",
       " PosixPath('/home/pico/code/shop_activity_follower/daily_downloads/WitchyStitcher'),\n",
       " PosixPath('/home/pico/code/shop_activity_follower/daily_downloads/StitchinMadness'),\n",
       " PosixPath('/home/pico/code/shop_activity_follower/daily_downloads/CrossWithMe'),\n",
       " PosixPath('/home/pico/code/shop_activity_follower/daily_downloads/RaccoonDesignShop'),\n",
       " PosixPath('/home/pico/code/shop_activity_follower/daily_downloads/ArtPrintsFactory')]"
      ]
     },
     "execution_count": 6,
     "metadata": {},
     "output_type": "execute_result"
    }
   ],
   "source": [
    "list(shops_path.glob('*/'))"
   ]
  },
  {
   "cell_type": "code",
   "execution_count": 8,
   "metadata": {},
   "outputs": [],
   "source": [
    "soup = ets.open_html('/home/pico/code/shop_activity_follower/daily_downloads/ArtPrintsFactory/ArtPrintsFactory_2023-02-09_06-00-17_UTC')"
   ]
  },
  {
   "cell_type": "code",
   "execution_count": 19,
   "metadata": {},
   "outputs": [],
   "source": [
    "def extract_nitems(soup):\n",
    "    try:\n",
    "        #extract from html number of items in store\n",
    "        text_nitems = soup.find('div', class_='wt-tab-container wt-mb-xs-6').find('button', attrs={'data-section-id':'0'}).text\n",
    "        #if text all is in extracted string, number of items is in it\n",
    "        if 'All' in text_nitems:\n",
    "            #get the number of items\n",
    "            nitems = int(re.search('[0-9]+',text_nitems).group())\n",
    "        return nitems\n",
    "\n",
    "    except:\n",
    "        print('problem extracting nitems')\n",
    "        return -1\n",
    "\n",
    "\n",
    "def extract_sales(soup):\n",
    "    try:\n",
    "        #extract total sales of shop\n",
    "        sales_txt = soup.find('div', class_='wt-mt-lg-5 wt-pt-lg-2 wt-bt-xs-1').div.text\n",
    "        if 'Sales' in sales_txt:\n",
    "            sales = int(re.search('[0-9]+', sales_txt).group())\n",
    "        return sales\n",
    "    except:\n",
    "        print('problem extracting sales')\n",
    "        return -1\n",
    "\n",
    "def extract_number_of_admirers(soup):\n",
    "    try:\n",
    "        #extract total admirers of shop\n",
    "        admirers_txt = soup.find('div', class_='wt-mt-lg-5 wt-pt-lg-2 wt-bt-xs-1').find('a', class_='').text\n",
    "        if 'Admirers' in admirers_txt:\n",
    "            admirers = int(re.search('[0-9]+', admirers_txt).group())\n",
    "        return admirers\n",
    "    except:\n",
    "        print('problem extracting n admirers')\n",
    "        return -1\n",
    "\n",
    "\n",
    "def extract_number_of_reviews(soup):\n",
    "    try:\n",
    "        #extract total admirers of shop\n",
    "        nreviews_txt = soup.find('div', class_='wt-display-inline-block wt-vertical-align-middle').text\n",
    "        nreviews = int(re.search('[0-9]+', nreviews_txt).group())\n",
    "        return nreviews\n",
    "    except:\n",
    "        print('problem extracting n reviews')\n",
    "        return -1"
   ]
  },
  {
   "cell_type": "code",
   "execution_count": 10,
   "metadata": {},
   "outputs": [
    {
     "data": {
      "text/plain": [
       "155658"
      ]
     },
     "execution_count": 10,
     "metadata": {},
     "output_type": "execute_result"
    }
   ],
   "source": [
    "extract_sales(soup)"
   ]
  },
  {
   "cell_type": "code",
   "execution_count": 11,
   "metadata": {},
   "outputs": [
    {
     "data": {
      "text/plain": [
       "2195"
      ]
     },
     "execution_count": 11,
     "metadata": {},
     "output_type": "execute_result"
    }
   ],
   "source": [
    "extract_nitems(soup)"
   ]
  },
  {
   "cell_type": "code",
   "execution_count": 25,
   "metadata": {},
   "outputs": [
    {
     "data": {
      "text/plain": [
       "'\\n               (12211)\\n              '"
      ]
     },
     "execution_count": 25,
     "metadata": {},
     "output_type": "execute_result"
    }
   ],
   "source": [
    "soup.find('div', class_='wt-display-inline-block wt-vertical-align-middle').text"
   ]
  },
  {
   "cell_type": "code",
   "execution_count": 20,
   "metadata": {},
   "outputs": [
    {
     "data": {
      "text/plain": [
       "22370"
      ]
     },
     "execution_count": 20,
     "metadata": {},
     "output_type": "execute_result"
    }
   ],
   "source": [
    "extract_number_of_admirers(soup)"
   ]
  },
  {
   "cell_type": "code",
   "execution_count": null,
   "metadata": {},
   "outputs": [],
   "source": []
  }
 ],
 "metadata": {
  "kernelspec": {
   "display_name": "shop_activity_follower_streamlit-0wO4MKf-",
   "language": "python",
   "name": "python3"
  },
  "language_info": {
   "codemirror_mode": {
    "name": "ipython",
    "version": 3
   },
   "file_extension": ".py",
   "mimetype": "text/x-python",
   "name": "python",
   "nbconvert_exporter": "python",
   "pygments_lexer": "ipython3",
   "version": "3.10.6"
  },
  "orig_nbformat": 4,
  "vscode": {
   "interpreter": {
    "hash": "4ca77c2fa1fb429c2d4a7cfd7c80ea2a9f7fe5d04e74aa532c8449b3388a1a58"
   }
  }
 },
 "nbformat": 4,
 "nbformat_minor": 2
}
